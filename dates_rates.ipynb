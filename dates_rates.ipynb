{
 "cells": [
  {
   "attachments": {},
   "cell_type": "markdown",
   "metadata": {},
   "source": [
    "Third step\n",
    "\n",
    "Now that the table in UAH is filled in let's prepare the exchange rate for each date."
   ]
  },
  {
   "cell_type": "code",
   "execution_count": 1,
   "metadata": {},
   "outputs": [],
   "source": [
    "import pandas as pd"
   ]
  },
  {
   "attachments": {},
   "cell_type": "markdown",
   "metadata": {},
   "source": [
    "Open sheets separately for easy access."
   ]
  },
  {
   "cell_type": "code",
   "execution_count": 2,
   "metadata": {},
   "outputs": [],
   "source": [
    "df = pd.read_excel(\"ua_bonds.xlsx\", sheet_name=\"Bonds_Info\")"
   ]
  },
  {
   "cell_type": "code",
   "execution_count": 3,
   "metadata": {},
   "outputs": [],
   "source": [
    "df_2 = pd.read_excel(\"ua_bonds.xlsx\", sheet_name=\"Portfolio_UAH\", header=1)"
   ]
  },
  {
   "attachments": {},
   "cell_type": "markdown",
   "metadata": {},
   "source": [
    "The next solution that comes to my mind: \n",
    "    - make a list of all dates, \n",
    "    - use  set() to get only unique dates,\n",
    "    - sort and return to the list,\n",
    "    - cut the dates before the first purchase."
   ]
  },
  {
   "cell_type": "code",
   "execution_count": 4,
   "metadata": {},
   "outputs": [],
   "source": [
    "purchasedates = df_2[\"Purchase Date\"].to_list()\n",
    "paydates = df[\"Interest payment dates\"].to_list()"
   ]
  },
  {
   "cell_type": "code",
   "execution_count": 5,
   "metadata": {},
   "outputs": [],
   "source": [
    "dates = paydates + purchasedates\n",
    "dates = list(set(dates))\n",
    "dates.sort()\n",
    "needed_dates = dates[dates.index(purchasedates[0]):]"
   ]
  },
  {
   "cell_type": "code",
   "execution_count": 6,
   "metadata": {},
   "outputs": [],
   "source": [
    "df_3 = pd.DataFrame(needed_dates, columns=[\"Dates\"])"
   ]
  },
  {
   "cell_type": "code",
   "execution_count": 8,
   "metadata": {},
   "outputs": [
    {
     "data": {
      "text/plain": [
       "array(['2023-04-07', '2023-04-08', '2023-04-16', '2023-04-20',\n",
       "       '2023-04-26', '2023-04-27', '2023-04-30', '2023-05-03',\n",
       "       '2023-05-05', '2023-05-10', '2023-05-11', '2023-05-17',\n",
       "       '2023-05-18', '2023-05-24', '2023-05-25', '2023-05-31',\n",
       "       '2023-06-01', '2023-06-07', '2023-06-08', '2023-06-12',\n",
       "       '2023-06-28', '2023-07-05', '2023-07-14', '2023-07-17',\n",
       "       '2023-07-19', '2023-07-23', '2023-07-31', '2023-08-09',\n",
       "       '2023-08-16', '2023-08-23', '2023-08-30', '2023-08-31',\n",
       "       '2023-09-06', '2023-09-13', '2023-10-01', '2023-10-04',\n",
       "       '2023-10-25', '2023-10-31', '2023-11-01', '2023-11-08',\n",
       "       '2023-11-15', '2023-11-22', '2023-11-29', '2023-12-06',\n",
       "       '2023-12-20', '2023-12-27', '2024-01-03', '2024-01-17',\n",
       "       '2024-01-24', '2024-02-07', '2024-02-14', '2024-02-21',\n",
       "       '2024-02-28', '2024-03-06', '2024-03-13', '2024-04-03',\n",
       "       '2024-05-08', '2024-05-15', '2024-05-22', '2024-05-29',\n",
       "       '2024-06-05', '2024-06-19', '2024-06-26', '2024-07-03',\n",
       "       '2024-07-17', '2024-07-24', '2024-08-07', '2024-08-21',\n",
       "       '2024-08-28', '2024-09-04', '2024-09-11', '2024-10-02',\n",
       "       '2024-11-06', '2024-11-13', '2024-11-20', '2024-11-27',\n",
       "       '2024-12-04', '2024-12-18', '2025-01-15', '2025-01-22',\n",
       "       '2025-02-05', '2025-02-19', '2025-02-26', '2025-05-07',\n",
       "       '2025-05-14', '2025-05-21', '2025-05-28', '2025-06-18',\n",
       "       '2025-07-23', '2025-08-06', '2025-08-20', '2025-11-05',\n",
       "       '2025-11-12', '2025-11-26', '2026-01-21', '2026-02-18',\n",
       "       '2026-05-06', '2026-05-13', '2026-05-27', '2026-07-22',\n",
       "       '2026-11-04', '2026-11-25', '2027-05-26'], dtype=object)"
      ]
     },
     "execution_count": 8,
     "metadata": {},
     "output_type": "execute_result"
    }
   ],
   "source": [
    "# Date needs to be str for next step\n",
    "df_3[\"Dates\"] = df_3[\"Dates\"].astype(str)\n",
    "df_3[\"Dates\"].values"
   ]
  },
  {
   "cell_type": "code",
   "execution_count": 28,
   "metadata": {},
   "outputs": [],
   "source": [
    "import requests"
   ]
  },
  {
   "attachments": {},
   "cell_type": "markdown",
   "metadata": {},
   "source": [
    "There are dates from future in the list. I can cut them before(# TO DO LIST) =] So now I get the USD/UAH  rate for each date using the free api. Added check to avoid \"timetravel\" error."
   ]
  },
  {
   "cell_type": "code",
   "execution_count": 35,
   "metadata": {},
   "outputs": [
    {
     "data": {
      "text/plain": [
       "'2023-11-22'"
      ]
     },
     "execution_count": 35,
     "metadata": {},
     "output_type": "execute_result"
    }
   ],
   "source": [
    "from datetime import datetime\n",
    "\n",
    "today = str(datetime.today().date())\n",
    "\n",
    "today"
   ]
  },
  {
   "cell_type": "code",
   "execution_count": 36,
   "metadata": {},
   "outputs": [
    {
     "name": "stdout",
     "output_type": "stream",
     "text": [
      "Rate for 2023-04-07 was added\n",
      "Rate for 2023-04-08 was added\n",
      "Rate for 2023-04-16 was added\n",
      "Rate for 2023-04-20 was added\n",
      "Rate for 2023-04-26 was added\n",
      "Rate for 2023-04-27 was added\n",
      "Rate for 2023-04-30 was added\n",
      "Rate for 2023-05-03 was added\n",
      "Rate for 2023-05-05 was added\n",
      "Rate for 2023-05-10 was added\n",
      "Rate for 2023-05-11 was added\n",
      "Rate for 2023-05-17 was added\n",
      "Rate for 2023-05-18 was added\n",
      "Rate for 2023-05-24 was added\n",
      "Rate for 2023-05-25 was added\n",
      "Rate for 2023-05-31 was added\n",
      "Rate for 2023-06-01 was added\n",
      "Rate for 2023-06-07 was added\n",
      "Rate for 2023-06-08 was added\n",
      "Rate for 2023-06-12 was added\n",
      "Rate for 2023-06-28 was added\n",
      "Rate for 2023-07-05 was added\n",
      "Rate for 2023-07-14 was added\n",
      "Rate for 2023-07-17 was added\n",
      "Rate for 2023-07-19 was added\n",
      "Rate for 2023-07-23 was added\n",
      "Rate for 2023-07-31 was added\n",
      "Rate for 2023-08-09 was added\n",
      "Rate for 2023-08-16 was added\n",
      "Rate for 2023-08-23 was added\n",
      "Rate for 2023-08-30 was added\n",
      "Rate for 2023-08-31 was added\n",
      "Rate for 2023-09-06 was added\n",
      "Rate for 2023-09-13 was added\n",
      "Rate for 2023-10-01 was added\n",
      "Rate for 2023-10-04 was added\n",
      "Rate for 2023-10-25 was added\n",
      "Rate for 2023-10-31 was added\n",
      "Rate for 2023-11-01 was added\n",
      "Rate for 2023-11-08 was added\n",
      "Rate for 2023-11-15 was added\n",
      "I don't have timetravel machine\n"
     ]
    }
   ],
   "source": [
    "headers = {\"app_id\": \"56774d4e80224f419c0f3d410c187538\",\n",
    "        \"base\": \"USD\",\n",
    "        \"symbols\": \"UAH\"}\n",
    "\n",
    "\n",
    "for date in df_3[\"Dates\"].values:\n",
    "    if date >= today:\n",
    "        print(\"I don't have timetravel machine\")\n",
    "        break\n",
    "    endpoint = f\"https://openexchangerates.org/api/historical/{date}.json\"\n",
    "    response = requests.get(url=endpoint, params=headers)\n",
    "    df_3.loc[df_3[\"Dates\"] == date, \"Rates\"] = response.json()[\"rates\"][\"UAH\"]\n",
    "    print(f\"Rate for {date} was added\")"
   ]
  },
  {
   "cell_type": "code",
   "execution_count": 43,
   "metadata": {},
   "outputs": [],
   "source": [
    "df_3[\"Dates\"] = pd.to_datetime(df_3[\"Dates\"])"
   ]
  },
  {
   "cell_type": "code",
   "execution_count": 44,
   "metadata": {},
   "outputs": [
    {
     "data": {
      "text/plain": [
       "Dates    datetime64[ns]\n",
       "Rates           float64\n",
       "dtype: object"
      ]
     },
     "execution_count": 44,
     "metadata": {},
     "output_type": "execute_result"
    }
   ],
   "source": [
    "df_3.dtypes"
   ]
  },
  {
   "attachments": {},
   "cell_type": "markdown",
   "metadata": {},
   "source": [
    "The data for the new page is ready. Let's save it in excel.\n",
    "# TO DO change for \"append\" instand \"replace\""
   ]
  },
  {
   "cell_type": "code",
   "execution_count": 45,
   "metadata": {},
   "outputs": [],
   "source": [
    "with pd.ExcelWriter(\"ua_bonds.xlsx\", mode=\"a\", engine=\"openpyxl\", if_sheet_exists=\"replace\") as writer:\n",
    "    df_3.to_excel(writer, sheet_name=\"USD_UAH\", index=0)"
   ]
  }
 ],
 "metadata": {
  "kernelspec": {
   "display_name": "Python 3",
   "language": "python",
   "name": "python3"
  },
  "language_info": {
   "codemirror_mode": {
    "name": "ipython",
    "version": 3
   },
   "file_extension": ".py",
   "mimetype": "text/x-python",
   "name": "python",
   "nbconvert_exporter": "python",
   "pygments_lexer": "ipython3",
   "version": "3.11.6"
  },
  "orig_nbformat": 4,
  "vscode": {
   "interpreter": {
    "hash": "f914b47a1d2322c6955fe43a4e8f39536fcae73929c73e7eb0236a66c28a53b4"
   }
  }
 },
 "nbformat": 4,
 "nbformat_minor": 2
}
