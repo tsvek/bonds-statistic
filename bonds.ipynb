{
 "cells": [
  {
   "attachments": {},
   "cell_type": "markdown",
   "metadata": {},
   "source": [
    "First step.\n",
    "\n",
    "First of all the table with bond information needs to be transform for beеter use."
   ]
  },
  {
   "cell_type": "code",
   "execution_count": 1,
   "metadata": {},
   "outputs": [],
   "source": [
    "import pandas as pd"
   ]
  },
  {
   "cell_type": "code",
   "execution_count": 3,
   "metadata": {},
   "outputs": [],
   "source": [
    "df = pd.read_excel(\"01_10_2023 в обігу.xlsx\", index_col=0, header=1)"
   ]
  },
  {
   "cell_type": "code",
   "execution_count": 4,
   "metadata": {},
   "outputs": [],
   "source": [
    "# Drop columns wich definitely don't need \n",
    "df.drop(columns=[\"Термін обігу \\n(дн.)\",\"Кількість ЦП у \\nвипуску, шт.\",\"Стовпець1\"], inplace=True)"
   ]
  },
  {
   "cell_type": "code",
   "execution_count": 5,
   "metadata": {},
   "outputs": [],
   "source": [
    "# Rename for english \n",
    "columns_name = [\"ISIN\",\n",
    "                \"Borrowing currency and type of bond\",\n",
    "                \"Date of placement\",\n",
    "                \"Interest payment dates\",\n",
    "                \"Maturity date\",\n",
    "                \"Nominal yield level, %.\",\n",
    "                \"Coupon payment amount per bond\"\n",
    "                ]\n",
    "df.columns = columns_name"
   ]
  },
  {
   "cell_type": "code",
   "execution_count": 6,
   "metadata": {},
   "outputs": [],
   "source": [
    "# Selec into separate dataframe all bond in UAH currency\n",
    "df2 = df[df[\"Borrowing currency and type of bond\"].isin([\"Гривня\"])].copy()"
   ]
  },
  {
   "cell_type": "code",
   "execution_count": 7,
   "metadata": {},
   "outputs": [],
   "source": [
    "# Let's split each payment for separate row. It will be need in future\n",
    "df2[\"Interest payment dates\"] = df2[\"Interest payment dates\"].str.split()\n",
    "df3 = df2.explode(\"Interest payment dates\")"
   ]
  },
  {
   "cell_type": "code",
   "execution_count": 8,
   "metadata": {},
   "outputs": [],
   "source": [
    "# Reset the index column and remove the currency column. Don't need it anymore\n",
    "df3.reset_index(drop=True, inplace=True)\n",
    "df3.drop(columns=\"Borrowing currency and type of bond\", inplace=True)"
   ]
  },
  {
   "cell_type": "code",
   "execution_count": 9,
   "metadata": {},
   "outputs": [
    {
     "data": {
      "text/plain": [
       "array([57.5, 54.75, 58.35, 64.7, 80, '-', 49.95, 70, 61.5, 96.25, 77.5,\n",
       "       '77,50\\n(крім 25.03.2015–76,65)', 97.95, 97.5, 79.2, 98.75, 91.55,\n",
       "       98.5, 62.599999999999994, 95.9, 48.949999999999996], dtype=object)"
      ]
     },
     "execution_count": 9,
     "metadata": {},
     "output_type": "execute_result"
    }
   ],
   "source": [
    "# After exploring the result, find different data type in the column. Fix it manually. \n",
    "# TO DO Try to automate this process as excel's for input may be different\n",
    "df3[\"Coupon payment amount per bond\"].unique()"
   ]
  },
  {
   "cell_type": "code",
   "execution_count": 10,
   "metadata": {},
   "outputs": [],
   "source": [
    "# Bonds with \"-\" in this column aren't avaible for privat investors\n",
    "df3.drop(df3.loc[df3[\"Coupon payment amount per bond\"]==\"-\"].index, inplace=True)\n",
    "#df3[df3[\"Interest payment dates\"] == \"25.03.2015\"]\n",
    "df3.loc[df3[\"Interest payment dates\"] == \"25.03.2015\", [\"Coupon payment amount per bond\"]] = 76.65\n",
    "df3.loc[df3[\"Coupon payment amount per bond\"]==\"77,50\\n(крім 25.03.2015–76,65)\", [\"Coupon payment amount per bond\"]] = 77.50"
   ]
  },
  {
   "cell_type": "code",
   "execution_count": 11,
   "metadata": {},
   "outputs": [],
   "source": [
    "df3[\"Coupon payment amount per bond\"] = df3[\"Coupon payment amount per bond\"].apply(lambda row: round(row, 2))"
   ]
  },
  {
   "cell_type": "code",
   "execution_count": 12,
   "metadata": {},
   "outputs": [
    {
     "data": {
      "text/plain": [
       "ISIN                                      object\n",
       "Date of placement                 datetime64[ns]\n",
       "Interest payment dates                    object\n",
       "Maturity date                             object\n",
       "Nominal yield level, %.                   object\n",
       "Coupon payment amount per bond           float64\n",
       "dtype: object"
      ]
     },
     "execution_count": 12,
     "metadata": {},
     "output_type": "execute_result"
    }
   ],
   "source": [
    "df3.dtypes"
   ]
  },
  {
   "cell_type": "code",
   "execution_count": 13,
   "metadata": {},
   "outputs": [
    {
     "data": {
      "text/plain": [
       "ISIN                                      object\n",
       "Date of placement                 datetime64[ns]\n",
       "Interest payment dates            datetime64[ns]\n",
       "Maturity date                     datetime64[ns]\n",
       "Nominal yield level, %.                  float64\n",
       "Coupon payment amount per bond           float64\n",
       "dtype: object"
      ]
     },
     "execution_count": 13,
     "metadata": {},
     "output_type": "execute_result"
    }
   ],
   "source": [
    "# Will be working with date a lot, so it needs to be in the correct format\n",
    "df3[\"Nominal yield level, %.\"] = df3[\"Nominal yield level, %.\"].astype(float)\n",
    "df3[\"Maturity date\"] = pd.to_datetime(df3[\"Maturity date\"])\n",
    "df3[\"Interest payment dates\"] = pd.to_datetime(df3[\"Interest payment dates\"], format=r'%d.%m.%Y')\n",
    "df3.dtypes"
   ]
  },
  {
   "attachments": {},
   "cell_type": "markdown",
   "metadata": {},
   "source": [
    "This solution was the easiest way to split the coupon payment for the first and second payments in the year. This will be useful for analitycs part."
   ]
  },
  {
   "cell_type": "code",
   "execution_count": 14,
   "metadata": {},
   "outputs": [],
   "source": [
    "\n",
    "df3.loc[df3[\"Interest payment dates\"].dt.month > 6, \"Payment\"] = \"#2 \" + df3[\"Interest payment dates\"].dt.year.astype(str)\n",
    "df3.loc[df3[\"Interest payment dates\"].dt.month <= 6, \"Payment\"] = \"#1 \" + df3[\"Interest payment dates\"].dt.year.astype(str)"
   ]
  },
  {
   "cell_type": "code",
   "execution_count": 22,
   "metadata": {},
   "outputs": [
    {
     "data": {
      "text/plain": [
       "ISIN                               object\n",
       "Date of placement                  object\n",
       "Interest payment dates             object\n",
       "Maturity date                      object\n",
       "Nominal yield level, %.           float64\n",
       "Coupon payment amount per bond    float64\n",
       "Payment                            object\n",
       "dtype: object"
      ]
     },
     "execution_count": 22,
     "metadata": {},
     "output_type": "execute_result"
    }
   ],
   "source": [
    "# This block is trying to get read of time in excel but with no effect.\n",
    "df3[\"Date of placement\"] = df3[\"Date of placement\"].dt.date\n",
    "df3[\"Interest payment dates\"] = df3[\"Interest payment dates\"].dt.date\n",
    "df3[\"Maturity date\"] = df3[\"Maturity date\"].dt.date\n",
    "df3.dtypes"
   ]
  },
  {
   "attachments": {},
   "cell_type": "markdown",
   "metadata": {},
   "source": [
    "In the first lunch the result will be saved in new excel file. But in the future the information must be updated from the new input file to the existing file. So, this part also needs to be upgrade. \n",
    "Goes to # TO DO"
   ]
  },
  {
   "cell_type": "code",
   "execution_count": 15,
   "metadata": {},
   "outputs": [],
   "source": [
    "df3.to_excel(\"ua_bonds.xlsx\", sheet_name=\"Bonds_Info\", index=False)"
   ]
  }
 ],
 "metadata": {
  "kernelspec": {
   "display_name": "Python 3",
   "language": "python",
   "name": "python3"
  },
  "language_info": {
   "codemirror_mode": {
    "name": "ipython",
    "version": 3
   },
   "file_extension": ".py",
   "mimetype": "text/x-python",
   "name": "python",
   "nbconvert_exporter": "python",
   "pygments_lexer": "ipython3",
   "version": "3.11.6"
  },
  "orig_nbformat": 4,
  "vscode": {
   "interpreter": {
    "hash": "f914b47a1d2322c6955fe43a4e8f39536fcae73929c73e7eb0236a66c28a53b4"
   }
  }
 },
 "nbformat": 4,
 "nbformat_minor": 2
}
